{
 "cells": [
  {
   "cell_type": "markdown",
   "metadata": {},
   "source": [
    "# Any Imput Required by the Program is submitted by making changes to the Yaml File, editing it is as easy as editing a notepad"
   ]
  },
  {
   "cell_type": "markdown",
   "metadata": {},
   "source": [
    "# Importing the Necessary Python Libraries"
   ]
  },
  {
   "cell_type": "code",
   "execution_count": 111,
   "metadata": {},
   "outputs": [],
   "source": [
    "import yaml\n",
    "import pandas as pd\n",
    "from urllib import request\n",
    "from datetime import datetime, timedelta\n",
    "from io import BytesIO\n",
    "from urllib.request import urlopen\n",
    "from zipfile import ZipFile\n",
    "from urllib.error import HTTPError, URLError\n",
    "from socket import timeout\n",
    "import logging\n",
    "from pathlib import Path\n",
    "import os"
   ]
  },
  {
   "cell_type": "markdown",
   "metadata": {},
   "source": [
    "# Reading the Yaml file for all the required Inputs"
   ]
  },
  {
   "cell_type": "code",
   "execution_count": 112,
   "metadata": {},
   "outputs": [],
   "source": [
    "with open(r'C:\\Users\\91888\\Desktop\\input.yaml') as file:\n",
    "    inp=yaml.load(file, Loader=yaml.FullLoader)"
   ]
  },
  {
   "cell_type": "markdown",
   "metadata": {},
   "source": [
    "# Creating Directories for the Raw Data & the Final Data (Data with 1 month Performance per SYMBOL"
   ]
  },
  {
   "cell_type": "code",
   "execution_count": 113,
   "metadata": {},
   "outputs": [],
   "source": [
    "Path(inp['Output_Src_Data']).mkdir(parents=True, exist_ok=True)\n",
    "Path(inp['Output_Final_Data']).mkdir(parents=True, exist_ok=True)"
   ]
  },
  {
   "cell_type": "markdown",
   "metadata": {},
   "source": [
    "# Creating Class and Class Methods for Reading & Data Transformations"
   ]
  },
  {
   "cell_type": "code",
   "execution_count": 114,
   "metadata": {},
   "outputs": [],
   "source": [
    "class nse_extract:\n",
    "    \n",
    "    def __init__(self,date,url,no_of_days=30):\n",
    "        self.date=pd.to_datetime(date)\n",
    "        self.days=no_of_days\n",
    "        self.url=url \n",
    "        self.ll=[] \n",
    "        \n",
    "    def list_of_files(self,date):\n",
    "        for i in range(0,self.days+2,1):\n",
    "            dt=self.date\n",
    "            dt=dt-timedelta(days=i)\n",
    "            y=str(dt.year)\n",
    "            m=dt.strftime('%b').upper()\n",
    "            d=str(dt.day)\n",
    "            if len(d)==1:    #URL required day in date to be double digit, Eg, '08', '09', '15'\n",
    "                d=\"0\"+d\n",
    "            if dt.isoweekday() in range(1, 6):  # The Data is only available on Weekdays\n",
    "                self.ll.append(self.url+y+'/'+m+'/cm'+d+m+y+'bhav.csv.zip') # Creating the URLs for each data, since the pattern changes everyday\n",
    "            else:\n",
    "                continue\n",
    " \n",
    "    #Reading the Zipped Data driectly from the URL and loading the raw data in Source Directory\n",
    "    \n",
    "    def get_days_data_for_symbol(self,Output=inp['Output_Src_Data']):\n",
    "        self.output_loc=Output\n",
    "        for i in self.ll:\n",
    "            zipurl = i\n",
    "            try:        # Handling Errors due to Session Time Out or URL Error\n",
    "                with urlopen(zipurl, timeout=10) as zipresp:\n",
    "                    with ZipFile(BytesIO(zipresp.read())) as zfile:\n",
    "                        zfile.extractall(Output)   \n",
    "            except (HTTPError, URLError) as error:\n",
    "                logging.error('Data not retrieved because URL: %s',zipurl)\n",
    "            except timeout:\n",
    "                logging.error('socket timed out - URL: %s', zipurl)\n",
    "    \n",
    "    #Creating the Final data sources, where we have one file for each SYMBOL's performance in last 30 days\n",
    "    \n",
    "    def final_data_for_symbol(self, Input=inp['Output_Src_Data'], Output=inp['Output_Final_Data']):\n",
    "        file_names=os.listdir(Input)\n",
    "        df0=pd.DataFrame()\n",
    "        df1=pd.DataFrame()\n",
    "        for i in file_names:\n",
    "            df0=pd.read_csv(Input+'\\\\'+i,sep=',')\n",
    "            df1=df1.append(df0)\n",
    "        df1=df1.iloc[:,:-1]\n",
    "        for i in df1.SYMBOL.unique():\n",
    "            df1[df1.SYMBOL==i].to_csv(Output+'\\\\'+i+'.csv',index=False)"
   ]
  },
  {
   "cell_type": "markdown",
   "metadata": {},
   "source": [
    "# Creating an instance of the class"
   ]
  },
  {
   "cell_type": "code",
   "execution_count": 115,
   "metadata": {},
   "outputs": [],
   "source": [
    "obj=nse_extract(inp['Date'],inp['url'],inp['No_of_days_data'])"
   ]
  },
  {
   "cell_type": "markdown",
   "metadata": {},
   "source": [
    "# Creating the list of last one month's data"
   ]
  },
  {
   "cell_type": "code",
   "execution_count": 116,
   "metadata": {},
   "outputs": [],
   "source": [
    "obj.list_of_files(inp['Date'])"
   ]
  },
  {
   "cell_type": "markdown",
   "metadata": {},
   "source": [
    "# Creating the Source Data"
   ]
  },
  {
   "cell_type": "code",
   "execution_count": 117,
   "metadata": {},
   "outputs": [
    {
     "name": "stderr",
     "output_type": "stream",
     "text": [
      "ERROR:root:socket timed out - URL: https://archives.nseindia.com/content/historical/EQUITIES/2020/FEB/cm21FEB2020bhav.csv.zip\n"
     ]
    }
   ],
   "source": [
    "obj.get_days_data_for_symbol(inp['Output_Src_Data'])"
   ]
  },
  {
   "cell_type": "markdown",
   "metadata": {},
   "source": [
    "# Creating the Final Data "
   ]
  },
  {
   "cell_type": "code",
   "execution_count": 118,
   "metadata": {},
   "outputs": [],
   "source": [
    "obj.final_data_for_symbol(inp['Output_Src_Data'],inp['Output_Final_Data'])"
   ]
  }
 ],
 "metadata": {
  "kernelspec": {
   "display_name": "Python 3",
   "language": "python",
   "name": "python3"
  },
  "language_info": {
   "codemirror_mode": {
    "name": "ipython",
    "version": 3
   },
   "file_extension": ".py",
   "mimetype": "text/x-python",
   "name": "python",
   "nbconvert_exporter": "python",
   "pygments_lexer": "ipython3",
   "version": "3.7.4"
  }
 },
 "nbformat": 4,
 "nbformat_minor": 2
}
