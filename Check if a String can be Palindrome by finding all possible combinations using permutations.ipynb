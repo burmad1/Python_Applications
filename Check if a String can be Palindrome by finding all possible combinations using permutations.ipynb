{
 "cells": [
  {
   "cell_type": "markdown",
   "metadata": {},
   "source": [
    "# Check If a string can be a Palindrome using Permutations"
   ]
  },
  {
   "cell_type": "code",
   "execution_count": 62,
   "metadata": {},
   "outputs": [],
   "source": [
    "name='dhhd'"
   ]
  },
  {
   "cell_type": "code",
   "execution_count": 63,
   "metadata": {},
   "outputs": [],
   "source": [
    "from itertools import permutations,combinations"
   ]
  },
  {
   "cell_type": "code",
   "execution_count": 64,
   "metadata": {},
   "outputs": [],
   "source": [
    "a=permutations(name)"
   ]
  },
  {
   "cell_type": "code",
   "execution_count": null,
   "metadata": {},
   "outputs": [],
   "source": [
    "for i in a:\n",
    "    n1=''.join(list(i))\n",
    "    n2=n1[::-1]\n",
    "    print(n1,n2)\n",
    "    if n1==n2:\n",
    "        print('match')\n",
    "    else:\n",
    "        print('mismatch')"
   ]
  },
  {
   "cell_type": "markdown",
   "metadata": {},
   "source": [
    "# Without itertools"
   ]
  },
  {
   "cell_type": "code",
   "execution_count": 70,
   "metadata": {},
   "outputs": [],
   "source": [
    "def product(x):\n",
    "        final = [[]]\n",
    "        l = len(x)\n",
    "        groups = [list(x)] * l\n",
    "        for i in groups:\n",
    "            final = [x+[y] for x in final for y in i]\n",
    "        for k in final:\n",
    "            yield ''.join(k)"
   ]
  },
  {
   "cell_type": "code",
   "execution_count": 71,
   "metadata": {},
   "outputs": [
    {
     "name": "stdout",
     "output_type": "stream",
     "text": [
      "abc\n",
      "['a', 'b', 'c']\n",
      "['a', 'b', 'c']\n",
      "['a', 'b', 'c']\n"
     ]
    },
    {
     "data": {
      "text/plain": [
       "['aaa',\n",
       " 'aab',\n",
       " 'aac',\n",
       " 'aba',\n",
       " 'abb',\n",
       " 'abc',\n",
       " 'aca',\n",
       " 'acb',\n",
       " 'acc',\n",
       " 'baa',\n",
       " 'bab',\n",
       " 'bac',\n",
       " 'bba',\n",
       " 'bbb',\n",
       " 'bbc',\n",
       " 'bca',\n",
       " 'bcb',\n",
       " 'bcc',\n",
       " 'caa',\n",
       " 'cab',\n",
       " 'cac',\n",
       " 'cba',\n",
       " 'cbb',\n",
       " 'cbc',\n",
       " 'cca',\n",
       " 'ccb',\n",
       " 'ccc']"
      ]
     },
     "execution_count": 71,
     "metadata": {},
     "output_type": "execute_result"
    }
   ],
   "source": [
    "list(product('abc'))"
   ]
  },
  {
   "cell_type": "code",
   "execution_count": null,
   "metadata": {},
   "outputs": [],
   "source": []
  }
 ],
 "metadata": {
  "kernelspec": {
   "display_name": "Python 3",
   "language": "python",
   "name": "python3"
  },
  "language_info": {
   "codemirror_mode": {
    "name": "ipython",
    "version": 3
   },
   "file_extension": ".py",
   "mimetype": "text/x-python",
   "name": "python",
   "nbconvert_exporter": "python",
   "pygments_lexer": "ipython3",
   "version": "3.7.4"
  }
 },
 "nbformat": 4,
 "nbformat_minor": 2
}
